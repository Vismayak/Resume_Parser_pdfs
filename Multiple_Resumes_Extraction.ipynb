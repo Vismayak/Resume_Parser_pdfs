{
 "cells": [
  {
   "cell_type": "code",
   "execution_count": 20,
   "metadata": {},
   "outputs": [],
   "source": [
    "# https://www.omkarpathak.in/2018/12/18/writing-your-own-resume-parser/\n",
    "import PyPDF2\n",
    "import spacy\n",
    "import io\n",
    "from spacy.matcher import Matcher\n",
    "import re\n",
    "from nltk.corpus import stopwords\n",
    "import pandas as pd\n",
    "import string as str\n",
    "import glob\n",
    "import pickle"
   ]
  },
  {
   "cell_type": "markdown",
   "metadata": {},
   "source": [
    "### Text Extraction from PDF"
   ]
  },
  {
   "cell_type": "code",
   "execution_count": 21,
   "metadata": {},
   "outputs": [],
   "source": [
    "from pdfminer.converter import TextConverter\n",
    "from pdfminer.pdfinterp import PDFPageInterpreter\n",
    "from pdfminer.pdfinterp import PDFResourceManager\n",
    "from pdfminer.layout import LAParams\n",
    "from pdfminer.pdfpage import PDFPage\n",
    "\n",
    "def text_extraction(file_path):\n",
    "    \n",
    "#   Step 1- Open the file\n",
    "    with open(file_path,'rb') as resume:\n",
    "#       Step 2- Read the pages of the pdfpages\n",
    "        for page in PDFPage.get_pages(resume,check_extractable=True,caching=True):\n",
    "#             Step 3- Create a ResouceManagager (ResourceManager facilitates reuse of shared resources \n",
    "#               such as fonts and images so that large objects are not allocated multiple times.)\n",
    "            resource_manager= PDFResourceManager()\n",
    "#             Step 4- Create a filehandle that would collect the extracted text\n",
    "            file_handle= io.StringIO()\n",
    "#             Step 5- Create a converter that uses the filehandle and the resource manager and needs to provided with the encoding\n",
    "            converter = TextConverter(resource_manager,file_handle,codec='utf-8',laparams=LAParams())\n",
    "#             Step 6- Create an interpreter that uses the converter and resource manager to extract text from pdf\n",
    "            interpreter = PDFPageInterpreter(resource_manager,converter)\n",
    "            interpreter.process_page(page)\n",
    "#             Step 7- Get text from file handle\n",
    "            text = file_handle.getvalue()\n",
    "            yield text\n",
    "            converter.close()\n",
    "            file_handle.close()\n",
    "\n",
    "\n",
    "def pdf_extraction(file):\n",
    "    text= ''\n",
    "    for page in text_extraction(file):\n",
    "        text += ' ' + page\n",
    "    return text\n",
    "# print(text)\n",
    "# pattern = [{'POS': 'PROPN','LIKE_EMAIL':False,'LIKE_URL':False,'LIKE_NUM':False}, {'POS': 'PROPN','LIKE_EMAIL':False,'LIKE_URL':False,'LIKE_NUM':False}]    "
   ]
  },
  {
   "cell_type": "markdown",
   "metadata": {},
   "source": [
    "## Get Name"
   ]
  },
  {
   "cell_type": "code",
   "execution_count": 22,
   "metadata": {},
   "outputs": [],
   "source": [
    "# load pre-trained model\n",
    "nlp = spacy.load('en_core_web_sm')    # Load English tokenizer, tagger, parser, NER and word vectors\n",
    "def get_name(resume_text):\n",
    "    matcher = Matcher(nlp.vocab)          # Match sequences of tokens, based on pattern rules\n",
    "    nlp_text = nlp(resume_text)       # Tag text accordingly\n",
    "    pattern = [[{'POS': 'PROPN'}, {'POS': 'PROPN'}]]   #looks for a POS pattern of two proper nouns together \n",
    "    matcher.add('NAME', None, *pattern)\n",
    "    matches = matcher(nlp_text)\n",
    "    for match_id, start, end in matches:\n",
    "        span = nlp_text[start:end]\n",
    "        if 'name' not in span.text.lower():\n",
    "            return span.text\n",
    "    \n",
    "# name= get_name(resume_text=text)\n",
    "# print(name)"
   ]
  },
  {
   "cell_type": "markdown",
   "metadata": {},
   "source": [
    "## Get Email ID"
   ]
  },
  {
   "cell_type": "code",
   "execution_count": 23,
   "metadata": {},
   "outputs": [],
   "source": [
    "def get_email(resume_text):\n",
    "    matcher = Matcher(nlp.vocab)  \n",
    "    nlp_text = nlp(resume_text)       # Tag text accordingly\n",
    "    pattern = [{'LIKE_EMAIL': True}]    #looks for a POS pattern of two proper nouns together \n",
    "    matcher.add('EMAIL', None, pattern)\n",
    "    matches = matcher(nlp_text)\n",
    "    for match_id, start, end in matches:\n",
    "        span = nlp_text[start:end]\n",
    "        return span.text"
   ]
  },
  {
   "cell_type": "markdown",
   "metadata": {},
   "source": [
    "### Get Number"
   ]
  },
  {
   "cell_type": "code",
   "execution_count": 24,
   "metadata": {},
   "outputs": [],
   "source": [
    "# matcher.remove('NUMBER')\n",
    "def get_num(resume_text):\n",
    "    nlp_text = nlp(resume_text) \n",
    "    phone_expression = r'(?:(?:\\+?([1-9]|[0-9][0-9]|[0-9][0-9][0-9])\\s*(?:[.-]\\s*)?)?(?:\\(\\s*([2-9]1[02-9]|[2-9][02-8]1|[2-9][02-8][02-9])\\s*\\)|([0-9][1-9]|[0-9]1[02-9]|[2-9][02-8]1|[2-9][02-8][02-9]))\\s*(?:[.-]\\s*)?)?([2-9]1[02-9]|[2-9][02-9]1|[2-9][02-9]{2})\\s*(?:[.-]\\s*)?([0-9]{4})(?:\\s*(?:#|x\\.?|ext\\.?|extension)\\s*(\\d+))?'\n",
    "    for match in re.finditer(phone_expression, nlp_text.text):\n",
    "        start, end = match.span()\n",
    "        span = nlp_text.char_span(start, end) \n",
    "        if span and len(span.text)>9:\n",
    "            return span.text\n",
    "# number = get_num(text)\n",
    "# print(number)"
   ]
  },
  {
   "cell_type": "markdown",
   "metadata": {},
   "source": [
    "### Get Education Variables (Degrees, Subject, Year)"
   ]
  },
  {
   "cell_type": "code",
   "execution_count": 25,
   "metadata": {},
   "outputs": [],
   "source": [
    "majors = pd.read_csv(\"majors-list.csv\")\n",
    "majors = set(majors[\"Major\"])"
   ]
  },
  {
   "cell_type": "code",
   "execution_count": 26,
   "metadata": {},
   "outputs": [],
   "source": [
    "nlp = spacy.load('en_core_web_sm')\n",
    "\n",
    "# Grad all general stop words\n",
    "STOPWORDS = set(stopwords.words('english'))\n",
    "\n",
    "# Education Degrees\n",
    "EDUCATION = [\n",
    "            'BE','B.E.', 'B.E', 'BS', 'B.S', \n",
    "            'ME', 'M.E', 'M.E.', 'MS', 'M.S', \n",
    "            'BTECH', 'B.TECH', 'M.TECH', 'MTECH','BACHELOR','MASTER','MINOR'\n",
    "        ]\n",
    "\n",
    "def get_education(resume_text):\n",
    "    nlp_text = nlp(resume_text)\n",
    "\n",
    "    # Sentence Tokenizer\n",
    "    nlp_text = [sent.string.strip() for sent in nlp_text.sents]\n",
    "\n",
    "    edu = {}\n",
    "    # Extract education degree\n",
    "    for index, text in enumerate(nlp_text):\n",
    "        for tex in text.split():\n",
    "            # Replace all special symbols\n",
    "            tex = re.sub(r'[?|$|.|!|,]', r'', tex)\n",
    "            if tex.upper() in EDUCATION and tex not in STOPWORDS and index+1 < len(nlp_text):\n",
    "                edu[tex] = text + nlp_text[index + 1] \n",
    "    \n",
    "    education_qual= list(edu.keys())\n",
    "    \n",
    "#     Extract Major\n",
    "    matches = {x for x in majors for j in edu.keys() if x in edu[j].upper() }\n",
    "    majors_or_minors = list(matches)\n",
    "    # Extract year\n",
    "    years = []\n",
    "    for key in edu.keys():\n",
    "        year = re.search(re.compile(r'(((20|19)(\\d{2})))'), edu[key])\n",
    "        if year:\n",
    "            years.append(year[0])\n",
    "        \n",
    "    return education_qual,majors_or_minors,years\n",
    "\n",
    "# print(get_education(text))"
   ]
  },
  {
   "cell_type": "markdown",
   "metadata": {},
   "source": [
    "### Skill Extraction"
   ]
  },
  {
   "cell_type": "code",
   "execution_count": 27,
   "metadata": {},
   "outputs": [],
   "source": [
    "    # reading the csv file I created\n",
    "    data = pd.read_csv(\"skills.csv\") \n",
    "    \n",
    "    skills = []\n",
    "    skills =[i for x in data.columns for i in data[x] ]\n",
    "    skills = list(skills)\n",
    "    \n",
    "#     The one from github \n",
    "    \n",
    "\n"
   ]
  },
  {
   "cell_type": "code",
   "execution_count": 28,
   "metadata": {},
   "outputs": [],
   "source": [
    "# https://www.geeksforgeeks.org/python-intersection-two-lists/\n",
    "def intersection(a, b): \n",
    "    \n",
    "#     b = set(b) \n",
    "#     print(a,b) \n",
    "    c = set(b).intersection(a) \n",
    "#     print(c)\n",
    "    return len(c) "
   ]
  },
  {
   "cell_type": "code",
   "execution_count": 29,
   "metadata": {},
   "outputs": [],
   "source": [
    "import pandas as pd\n",
    "import spacy\n",
    "\n",
    "# load pre-trained model\n",
    "nlp = spacy.load('en_core_web_sm')\n",
    "\n",
    "def get_skills(resume_text):\n",
    "    nlp_text = nlp(resume_text)\n",
    "    noun_chunks = nlp_text.noun_chunks\n",
    "    # removing stop words and implementing word tokenization\n",
    "    tokens = [token.text for token in nlp_text if not token.is_stop]\n",
    "    \n",
    "    skillset = {}\n",
    "    \n",
    "    # check for one-grams (example: python)\n",
    "    for token in tokens:\n",
    "        if token.lower() in skills:\n",
    "            if token.lower() in skillset:\n",
    "                skillset[token.lower()] += 1\n",
    "            else:\n",
    "                skillset[token.lower()] = 1\n",
    "            \n",
    "    \n",
    "    # check |for bi-grams and tri-grams (example: machine learning)\n",
    "    for token in noun_chunks:\n",
    "        token = token.text.lower().strip()\n",
    "        if token in skills:\n",
    "            if token in skillset:\n",
    "                skillset[token] += 1\n",
    "            else:\n",
    "                skillset[token] = 1\n",
    "    \n",
    "    skill_score = {}\n",
    "    for i in data.columns:\n",
    "#         print(type(skillset.keys),type(data[i]))\n",
    "        skill_score[i]= intersection(list(skillset.keys()),list(data[i]))\n",
    "        \n",
    "    \n",
    "    return (skillset,skill_score)"
   ]
  },
  {
   "cell_type": "markdown",
   "metadata": {},
   "source": [
    " ## Multiple Resumes"
   ]
  },
  {
   "cell_type": "code",
   "execution_count": 30,
   "metadata": {},
   "outputs": [
    {
     "name": "stdout",
     "output_type": "stream",
     "text": [
      "Multiple_Resumes/agrawal_saumya_resume_14323135.pdf\n",
      "Multiple_Resumes/mehta_jinal_resume_14066856.pdf\n",
      "Multiple_Resumes/jiang_jingcheng_resume_14792170.pdf\n",
      "Multiple_Resumes/gupta_anish_resume_14706803.pdf\n",
      "Multiple_Resumes/shetty_siddharth_kishor_resume_14778403.pdf\n",
      "Multiple_Resumes/qin_xuefeng_resume_14823891.pdf\n",
      "Multiple_Resumes/kim_andrew_resume_14937724.pdf\n",
      "Multiple_Resumes/obetta_ebubechukwu_resume_13415673.pdf\n",
      "Multiple_Resumes/varma_ayush_resume_12465308.pdf\n",
      "Multiple_Resumes/kras_michelle_resume_14992930.pdf\n",
      "Multiple_Resumes/wang_justin_resume_13153799.pdf\n",
      "Multiple_Resumes/lou_robert_resume_14892216.pdf\n",
      "Multiple_Resumes/gupta_tanya_resume_14340664.pdf\n",
      "Multiple_Resumes/pachori_kunal_resume_14723849.pdf\n",
      "Multiple_Resumes/mehta_chaitya_sunil_resume_14875421.pdf\n",
      "Multiple_Resumes/yuan_hao_resume_14053396.pdf\n",
      "Multiple_Resumes/joshi_jay_resume_13020321.pdf\n",
      "Multiple_Resumes/mehta_monil_resume_14867543.pdf\n",
      "Multiple_Resumes/parhi_sanjay_resume_14998184.pdf\n",
      "Multiple_Resumes/putta_sarvani_resume_14558389.pdf\n",
      "Multiple_Resumes/motwani_kaahan_resume_14717114.pdf\n",
      "Multiple_Resumes/kaur_baansal_gaganpreet_resume_14167352.pdf\n",
      "Multiple_Resumes/chen_yuan_ching_resume_14679218.pdf\n",
      "Multiple_Resumes/huang_tzu_yang_resume_14892544.pdf\n",
      "Multiple_Resumes/li_yongyi_resume_12513140.pdf\n",
      "Multiple_Resumes/zhou_tianying_resume_14759850.pdf\n",
      "Multiple_Resumes/bhatt_ushma_resume_14945384.pdf\n",
      "Multiple_Resumes/chhabra_karan_resume_13479336.pdf\n"
     ]
    },
    {
     "ename": "KeyboardInterrupt",
     "evalue": "",
     "output_type": "error",
     "traceback": [
      "\u001b[0;31m---------------------------------------------------------------------------\u001b[0m",
      "\u001b[0;31mKeyboardInterrupt\u001b[0m                         Traceback (most recent call last)",
      "\u001b[0;32m<ipython-input-30-ba4a9563a8ed>\u001b[0m in \u001b[0;36m<module>\u001b[0;34m\u001b[0m\n\u001b[1;32m      2\u001b[0m \u001b[0;32mfor\u001b[0m \u001b[0mpath\u001b[0m \u001b[0;32min\u001b[0m \u001b[0mglob\u001b[0m\u001b[0;34m.\u001b[0m\u001b[0miglob\u001b[0m\u001b[0;34m(\u001b[0m\u001b[0;34m\"Multiple_Resumes/\"\u001b[0m \u001b[0;34m+\u001b[0m \u001b[0;34m\"*.pdf\"\u001b[0m\u001b[0;34m)\u001b[0m\u001b[0;34m:\u001b[0m\u001b[0;34m\u001b[0m\u001b[0;34m\u001b[0m\u001b[0m\n\u001b[1;32m      3\u001b[0m     \u001b[0mprint\u001b[0m\u001b[0;34m(\u001b[0m\u001b[0mpath\u001b[0m\u001b[0;34m)\u001b[0m\u001b[0;34m\u001b[0m\u001b[0;34m\u001b[0m\u001b[0m\n\u001b[0;32m----> 4\u001b[0;31m     \u001b[0mresume_text\u001b[0m\u001b[0;34m=\u001b[0m \u001b[0mpdf_extraction\u001b[0m\u001b[0;34m(\u001b[0m\u001b[0mpath\u001b[0m\u001b[0;34m)\u001b[0m\u001b[0;34m\u001b[0m\u001b[0;34m\u001b[0m\u001b[0m\n\u001b[0m\u001b[1;32m      5\u001b[0m     \u001b[0mcurr_email\u001b[0m \u001b[0;34m=\u001b[0m \u001b[0mget_email\u001b[0m\u001b[0;34m(\u001b[0m\u001b[0mresume_text\u001b[0m\u001b[0;34m)\u001b[0m\u001b[0;34m\u001b[0m\u001b[0;34m\u001b[0m\u001b[0m\n\u001b[1;32m      6\u001b[0m     \u001b[0mresumes_dict\u001b[0m\u001b[0;34m[\u001b[0m\u001b[0mcurr_email\u001b[0m\u001b[0;34m]\u001b[0m\u001b[0;34m=\u001b[0m \u001b[0;34m{\u001b[0m\u001b[0;34m}\u001b[0m\u001b[0;34m\u001b[0m\u001b[0;34m\u001b[0m\u001b[0m\n",
      "\u001b[0;32m<ipython-input-21-48ad9d012bac>\u001b[0m in \u001b[0;36mpdf_extraction\u001b[0;34m(file)\u001b[0m\n\u001b[1;32m     30\u001b[0m \u001b[0;32mdef\u001b[0m \u001b[0mpdf_extraction\u001b[0m\u001b[0;34m(\u001b[0m\u001b[0mfile\u001b[0m\u001b[0;34m)\u001b[0m\u001b[0;34m:\u001b[0m\u001b[0;34m\u001b[0m\u001b[0;34m\u001b[0m\u001b[0m\n\u001b[1;32m     31\u001b[0m     \u001b[0mtext\u001b[0m\u001b[0;34m=\u001b[0m \u001b[0;34m''\u001b[0m\u001b[0;34m\u001b[0m\u001b[0;34m\u001b[0m\u001b[0m\n\u001b[0;32m---> 32\u001b[0;31m     \u001b[0;32mfor\u001b[0m \u001b[0mpage\u001b[0m \u001b[0;32min\u001b[0m \u001b[0mtext_extraction\u001b[0m\u001b[0;34m(\u001b[0m\u001b[0mfile\u001b[0m\u001b[0;34m)\u001b[0m\u001b[0;34m:\u001b[0m\u001b[0;34m\u001b[0m\u001b[0;34m\u001b[0m\u001b[0m\n\u001b[0m\u001b[1;32m     33\u001b[0m         \u001b[0mtext\u001b[0m \u001b[0;34m+=\u001b[0m \u001b[0;34m' '\u001b[0m \u001b[0;34m+\u001b[0m \u001b[0mpage\u001b[0m\u001b[0;34m\u001b[0m\u001b[0;34m\u001b[0m\u001b[0m\n\u001b[1;32m     34\u001b[0m     \u001b[0;32mreturn\u001b[0m \u001b[0mtext\u001b[0m\u001b[0;34m\u001b[0m\u001b[0;34m\u001b[0m\u001b[0m\n",
      "\u001b[0;32m<ipython-input-21-48ad9d012bac>\u001b[0m in \u001b[0;36mtext_extraction\u001b[0;34m(file_path)\u001b[0m\n\u001b[1;32m     20\u001b[0m \u001b[0;31m#             Step 6- Create an interpreter that uses the converter and resource manager to extract text from pdf\u001b[0m\u001b[0;34m\u001b[0m\u001b[0;34m\u001b[0m\u001b[0;34m\u001b[0m\u001b[0m\n\u001b[1;32m     21\u001b[0m             \u001b[0minterpreter\u001b[0m \u001b[0;34m=\u001b[0m \u001b[0mPDFPageInterpreter\u001b[0m\u001b[0;34m(\u001b[0m\u001b[0mresource_manager\u001b[0m\u001b[0;34m,\u001b[0m\u001b[0mconverter\u001b[0m\u001b[0;34m)\u001b[0m\u001b[0;34m\u001b[0m\u001b[0;34m\u001b[0m\u001b[0m\n\u001b[0;32m---> 22\u001b[0;31m             \u001b[0minterpreter\u001b[0m\u001b[0;34m.\u001b[0m\u001b[0mprocess_page\u001b[0m\u001b[0;34m(\u001b[0m\u001b[0mpage\u001b[0m\u001b[0;34m)\u001b[0m\u001b[0;34m\u001b[0m\u001b[0;34m\u001b[0m\u001b[0m\n\u001b[0m\u001b[1;32m     23\u001b[0m \u001b[0;31m#             Step 7- Get text from file handle\u001b[0m\u001b[0;34m\u001b[0m\u001b[0;34m\u001b[0m\u001b[0;34m\u001b[0m\u001b[0m\n\u001b[1;32m     24\u001b[0m             \u001b[0mtext\u001b[0m \u001b[0;34m=\u001b[0m \u001b[0mfile_handle\u001b[0m\u001b[0;34m.\u001b[0m\u001b[0mgetvalue\u001b[0m\u001b[0;34m(\u001b[0m\u001b[0;34m)\u001b[0m\u001b[0;34m\u001b[0m\u001b[0;34m\u001b[0m\u001b[0m\n",
      "\u001b[0;32m~/virtualenv/lib/python3.7/site-packages/pdfminer/pdfinterp.py\u001b[0m in \u001b[0;36mprocess_page\u001b[0;34m(self, page)\u001b[0m\n\u001b[1;32m    850\u001b[0m             \u001b[0mctm\u001b[0m \u001b[0;34m=\u001b[0m \u001b[0;34m(\u001b[0m\u001b[0;36m1\u001b[0m\u001b[0;34m,\u001b[0m \u001b[0;36m0\u001b[0m\u001b[0;34m,\u001b[0m \u001b[0;36m0\u001b[0m\u001b[0;34m,\u001b[0m \u001b[0;36m1\u001b[0m\u001b[0;34m,\u001b[0m \u001b[0;34m-\u001b[0m\u001b[0mx0\u001b[0m\u001b[0;34m,\u001b[0m \u001b[0;34m-\u001b[0m\u001b[0my0\u001b[0m\u001b[0;34m)\u001b[0m\u001b[0;34m\u001b[0m\u001b[0;34m\u001b[0m\u001b[0m\n\u001b[1;32m    851\u001b[0m         \u001b[0mself\u001b[0m\u001b[0;34m.\u001b[0m\u001b[0mdevice\u001b[0m\u001b[0;34m.\u001b[0m\u001b[0mbegin_page\u001b[0m\u001b[0;34m(\u001b[0m\u001b[0mpage\u001b[0m\u001b[0;34m,\u001b[0m \u001b[0mctm\u001b[0m\u001b[0;34m)\u001b[0m\u001b[0;34m\u001b[0m\u001b[0;34m\u001b[0m\u001b[0m\n\u001b[0;32m--> 852\u001b[0;31m         \u001b[0mself\u001b[0m\u001b[0;34m.\u001b[0m\u001b[0mrender_contents\u001b[0m\u001b[0;34m(\u001b[0m\u001b[0mpage\u001b[0m\u001b[0;34m.\u001b[0m\u001b[0mresources\u001b[0m\u001b[0;34m,\u001b[0m \u001b[0mpage\u001b[0m\u001b[0;34m.\u001b[0m\u001b[0mcontents\u001b[0m\u001b[0;34m,\u001b[0m \u001b[0mctm\u001b[0m\u001b[0;34m=\u001b[0m\u001b[0mctm\u001b[0m\u001b[0;34m)\u001b[0m\u001b[0;34m\u001b[0m\u001b[0;34m\u001b[0m\u001b[0m\n\u001b[0m\u001b[1;32m    853\u001b[0m         \u001b[0mself\u001b[0m\u001b[0;34m.\u001b[0m\u001b[0mdevice\u001b[0m\u001b[0;34m.\u001b[0m\u001b[0mend_page\u001b[0m\u001b[0;34m(\u001b[0m\u001b[0mpage\u001b[0m\u001b[0;34m)\u001b[0m\u001b[0;34m\u001b[0m\u001b[0;34m\u001b[0m\u001b[0m\n\u001b[1;32m    854\u001b[0m         \u001b[0;32mreturn\u001b[0m\u001b[0;34m\u001b[0m\u001b[0;34m\u001b[0m\u001b[0m\n",
      "\u001b[0;32m~/virtualenv/lib/python3.7/site-packages/pdfminer/pdfinterp.py\u001b[0m in \u001b[0;36mrender_contents\u001b[0;34m(self, resources, streams, ctm)\u001b[0m\n\u001b[1;32m    862\u001b[0m         \u001b[0mself\u001b[0m\u001b[0;34m.\u001b[0m\u001b[0minit_resources\u001b[0m\u001b[0;34m(\u001b[0m\u001b[0mresources\u001b[0m\u001b[0;34m)\u001b[0m\u001b[0;34m\u001b[0m\u001b[0;34m\u001b[0m\u001b[0m\n\u001b[1;32m    863\u001b[0m         \u001b[0mself\u001b[0m\u001b[0;34m.\u001b[0m\u001b[0minit_state\u001b[0m\u001b[0;34m(\u001b[0m\u001b[0mctm\u001b[0m\u001b[0;34m)\u001b[0m\u001b[0;34m\u001b[0m\u001b[0;34m\u001b[0m\u001b[0m\n\u001b[0;32m--> 864\u001b[0;31m         \u001b[0mself\u001b[0m\u001b[0;34m.\u001b[0m\u001b[0mexecute\u001b[0m\u001b[0;34m(\u001b[0m\u001b[0mlist_value\u001b[0m\u001b[0;34m(\u001b[0m\u001b[0mstreams\u001b[0m\u001b[0;34m)\u001b[0m\u001b[0;34m)\u001b[0m\u001b[0;34m\u001b[0m\u001b[0;34m\u001b[0m\u001b[0m\n\u001b[0m\u001b[1;32m    865\u001b[0m         \u001b[0;32mreturn\u001b[0m\u001b[0;34m\u001b[0m\u001b[0;34m\u001b[0m\u001b[0m\n\u001b[1;32m    866\u001b[0m \u001b[0;34m\u001b[0m\u001b[0m\n",
      "\u001b[0;32m~/virtualenv/lib/python3.7/site-packages/pdfminer/pdfinterp.py\u001b[0m in \u001b[0;36mexecute\u001b[0;34m(self, streams)\u001b[0m\n\u001b[1;32m    873\u001b[0m         \u001b[0;32mwhile\u001b[0m \u001b[0;36m1\u001b[0m\u001b[0;34m:\u001b[0m\u001b[0;34m\u001b[0m\u001b[0;34m\u001b[0m\u001b[0m\n\u001b[1;32m    874\u001b[0m             \u001b[0;32mtry\u001b[0m\u001b[0;34m:\u001b[0m\u001b[0;34m\u001b[0m\u001b[0;34m\u001b[0m\u001b[0m\n\u001b[0;32m--> 875\u001b[0;31m                 \u001b[0;34m(\u001b[0m\u001b[0m_\u001b[0m\u001b[0;34m,\u001b[0m \u001b[0mobj\u001b[0m\u001b[0;34m)\u001b[0m \u001b[0;34m=\u001b[0m \u001b[0mparser\u001b[0m\u001b[0;34m.\u001b[0m\u001b[0mnextobject\u001b[0m\u001b[0;34m(\u001b[0m\u001b[0;34m)\u001b[0m\u001b[0;34m\u001b[0m\u001b[0;34m\u001b[0m\u001b[0m\n\u001b[0m\u001b[1;32m    876\u001b[0m             \u001b[0;32mexcept\u001b[0m \u001b[0mPSEOF\u001b[0m\u001b[0;34m:\u001b[0m\u001b[0;34m\u001b[0m\u001b[0;34m\u001b[0m\u001b[0m\n\u001b[1;32m    877\u001b[0m                 \u001b[0;32mbreak\u001b[0m\u001b[0;34m\u001b[0m\u001b[0;34m\u001b[0m\u001b[0m\n",
      "\u001b[0;32m~/virtualenv/lib/python3.7/site-packages/pdfminer/psparser.py\u001b[0m in \u001b[0;36mnextobject\u001b[0;34m(self)\u001b[0m\n\u001b[1;32m    614\u001b[0m             \u001b[0;32melif\u001b[0m \u001b[0misinstance\u001b[0m\u001b[0;34m(\u001b[0m\u001b[0mtoken\u001b[0m\u001b[0;34m,\u001b[0m\u001b[0mPSKeyword\u001b[0m\u001b[0;34m)\u001b[0m\u001b[0;34m:\u001b[0m\u001b[0;34m\u001b[0m\u001b[0;34m\u001b[0m\u001b[0m\n\u001b[1;32m    615\u001b[0m                 \u001b[0mlog\u001b[0m\u001b[0;34m.\u001b[0m\u001b[0mdebug\u001b[0m\u001b[0;34m(\u001b[0m\u001b[0;34m'do_keyword: pos=%r, token=%r, stack=%r'\u001b[0m\u001b[0;34m,\u001b[0m \u001b[0mpos\u001b[0m\u001b[0;34m,\u001b[0m \u001b[0mtoken\u001b[0m\u001b[0;34m,\u001b[0m \u001b[0mself\u001b[0m\u001b[0;34m.\u001b[0m\u001b[0mcurstack\u001b[0m\u001b[0;34m)\u001b[0m\u001b[0;34m\u001b[0m\u001b[0;34m\u001b[0m\u001b[0m\n\u001b[0;32m--> 616\u001b[0;31m                 \u001b[0mself\u001b[0m\u001b[0;34m.\u001b[0m\u001b[0mdo_keyword\u001b[0m\u001b[0;34m(\u001b[0m\u001b[0mpos\u001b[0m\u001b[0;34m,\u001b[0m \u001b[0mtoken\u001b[0m\u001b[0;34m)\u001b[0m\u001b[0;34m\u001b[0m\u001b[0;34m\u001b[0m\u001b[0m\n\u001b[0m\u001b[1;32m    617\u001b[0m             \u001b[0;32melse\u001b[0m\u001b[0;34m:\u001b[0m\u001b[0;34m\u001b[0m\u001b[0;34m\u001b[0m\u001b[0m\n\u001b[1;32m    618\u001b[0m                 \u001b[0mlog\u001b[0m\u001b[0;34m.\u001b[0m\u001b[0merror\u001b[0m\u001b[0;34m(\u001b[0m\u001b[0;34m'unknown token: pos=%r, token=%r, stack=%r'\u001b[0m\u001b[0;34m,\u001b[0m \u001b[0mpos\u001b[0m\u001b[0;34m,\u001b[0m \u001b[0mtoken\u001b[0m\u001b[0;34m,\u001b[0m \u001b[0mself\u001b[0m\u001b[0;34m.\u001b[0m\u001b[0mcurstack\u001b[0m\u001b[0;34m)\u001b[0m\u001b[0;34m\u001b[0m\u001b[0;34m\u001b[0m\u001b[0m\n",
      "\u001b[0;32m~/virtualenv/lib/python3.7/site-packages/pdfminer/pdfinterp.py\u001b[0m in \u001b[0;36mdo_keyword\u001b[0;34m(self, pos, token)\u001b[0m\n\u001b[1;32m    298\u001b[0m \u001b[0;34m\u001b[0m\u001b[0m\n\u001b[1;32m    299\u001b[0m     \u001b[0;32mdef\u001b[0m \u001b[0mdo_keyword\u001b[0m\u001b[0;34m(\u001b[0m\u001b[0mself\u001b[0m\u001b[0;34m,\u001b[0m \u001b[0mpos\u001b[0m\u001b[0;34m,\u001b[0m \u001b[0mtoken\u001b[0m\u001b[0;34m)\u001b[0m\u001b[0;34m:\u001b[0m\u001b[0;34m\u001b[0m\u001b[0;34m\u001b[0m\u001b[0m\n\u001b[0;32m--> 300\u001b[0;31m         \u001b[0;32mif\u001b[0m \u001b[0mtoken\u001b[0m \u001b[0;32mis\u001b[0m \u001b[0mself\u001b[0m\u001b[0;34m.\u001b[0m\u001b[0mKEYWORD_BI\u001b[0m\u001b[0;34m:\u001b[0m\u001b[0;34m\u001b[0m\u001b[0;34m\u001b[0m\u001b[0m\n\u001b[0m\u001b[1;32m    301\u001b[0m             \u001b[0;31m# inline image within a content stream\u001b[0m\u001b[0;34m\u001b[0m\u001b[0;34m\u001b[0m\u001b[0;34m\u001b[0m\u001b[0m\n\u001b[1;32m    302\u001b[0m             \u001b[0mself\u001b[0m\u001b[0;34m.\u001b[0m\u001b[0mstart_type\u001b[0m\u001b[0;34m(\u001b[0m\u001b[0mpos\u001b[0m\u001b[0;34m,\u001b[0m \u001b[0;34m'inline'\u001b[0m\u001b[0;34m)\u001b[0m\u001b[0;34m\u001b[0m\u001b[0;34m\u001b[0m\u001b[0m\n",
      "\u001b[0;31mKeyboardInterrupt\u001b[0m: "
     ]
    }
   ],
   "source": [
    "resumes_dict = {}\n",
    "for path in glob.iglob(\"Multiple_Resumes/\" + \"*.pdf\"):\n",
    "    print(path)\n",
    "    resume_text= pdf_extraction(path)\n",
    "    curr_email = get_email(resume_text)\n",
    "    resumes_dict[curr_email]= {}\n",
    "    resumes_dict[curr_email][\"NAME\"]= get_name(resume_text)\n",
    "    resumes_dict[curr_email][\"NUMBER\"] = get_num(resume_text)\n",
    "    resumes_dict[curr_email][\"EDUCATION\"] = get_education(resume_text)\n",
    "    resumes_dict[curr_email][\"SKILLS\"],resumes_dict[curr_email][\"SCORE\"] = get_skills(resume_text)"
   ]
  },
  {
   "cell_type": "code",
   "execution_count": null,
   "metadata": {},
   "outputs": [],
   "source": [
    "f = open(\"resumes_dict.pkl\",\"wb\")\n",
    "pickle.dump(resumes_dict,f)\n",
    "f.close()"
   ]
  },
  {
   "cell_type": "code",
   "execution_count": 31,
   "metadata": {},
   "outputs": [
    {
     "name": "stdout",
     "output_type": "stream",
     "text": [
      "{'saumyaa2@illinois.edu': {'NAME': 'Computer Science', 'NUMBER': '217-819-0855', 'EDUCATION': (['Bachelor'], ['ECONOMICS', 'COMPUTER SCIENCE', 'STATISTICS'], []), 'SKILLS': {'statistics': 4, 'python': 4, 'analysis': 3, 'research': 2, 'datasets': 1, 'audio': 1, 'hardware': 1, 'c++': 2, 'android': 2, 'mobile': 1, 'policies': 1, 'ui': 1, 'interactive': 1, 'excel': 1, 'technical': 1, 'git': 2, 'java': 2, 'r': 2, 'html': 1, 'css': 1, 'sql': 1, 'writing': 1, 'design': 1, 'economics': 1, 'calculus': 1, 'computer science': 3, 'microsoft excel': 1, 'technical skills': 1, 'statistical analysis': 1}, 'SCORE': {'Statistics': 1, 'Machine Learning': 0, 'Deep Learning': 0, 'R language': 0, 'Python Language': 1, 'NLP': 0, 'Data Engineering': 1, 'Other Softwares and skills': 4}}, 'jinalm2@illinois.edu': {'NAME': 'Jinal Jayesh', 'NUMBER': None, 'EDUCATION': (['Master', 'Bachelor'], [], ['2017']), 'SKILLS': {'engineering': 8, 'electronics': 2, 'system': 2, 'training': 1, 'consulting': 2, 'database': 1, 'telecom': 3, 'marketing': 6, 'research': 3, 'strategy': 1, 'plan': 1, 'automation': 1, 'r': 1, 'programming': 1, 'python': 1, 'mysql': 2, 'architecture': 1, 'construction': 2, 'recruitment': 2, 'technical': 1, 'presentation': 1, 'security': 1, 'information management': 1}, 'SCORE': {'Statistics': 0, 'Machine Learning': 0, 'Deep Learning': 0, 'R language': 0, 'Python Language': 1, 'NLP': 0, 'Data Engineering': 1, 'Other Softwares and skills': 0}}, 'jiangjc97@outlook.com': {'NAME': 'Jingcheng Jiang', 'NUMBER': '571-523-5869', 'EDUCATION': (['Master', 'MS'], [], []), 'SKILLS': {'email': 1, 'international': 1, 'economics': 2, 'finance': 2, 'plan': 3, 'health': 2, 'research': 3, 'analysis': 7, 'travel': 1, 'process': 1, 'writing': 2, 'statistics': 1, 'sales': 2, 'kpi': 1, 'marketing': 4, 'electronics': 1, 'matrix': 1, 'sap': 2, 'system': 3, 'purchasing': 1, 'inventory': 1, 'accounting': 1, 'communication': 1, 'testing': 5, 'python': 4, 'programming': 1, 'c': 2, 'java': 2, 'r': 2, 'sql': 2, 'adobe': 4, 'photoshop': 1, 'modeling': 1, 'information management': 1, 'market research': 1, 'financial analysis': 1, 'test case': 1, 'test cases': 1, 'data analysis': 1, 'sql server': 1}, 'SCORE': {'Statistics': 1, 'Machine Learning': 0, 'Deep Learning': 0, 'R language': 0, 'Python Language': 1, 'NLP': 0, 'Data Engineering': 1, 'Other Softwares and skills': 3}}, 'anishg3@illinois.edu': {'NAME': 'West Illinois', 'NUMBER': '857.334.0453', 'EDUCATION': (['Master', 'Bachelor'], [], ['2019']), 'SKILLS': {'python': 4, 'engineering': 3, 'java': 6, 'electronics': 1, 'communication': 1, 'mathematics': 1, 'analytics': 2, 'vendors': 1, 'training': 2, 'technical': 2, 'research': 2, 'opencv': 2, 'c++': 2, 'prototype': 1, 'sap': 4, 'cloud': 2, 'wifi': 1, 'database': 3, 'json': 2, 'requests': 3, 'interactive': 1, 'ui': 1, 'api': 1, 'pattern': 1, 'matrix': 1, 'health': 3, 'analysis': 2, 'pca': 4, 'system': 1, 'segmentation': 2, 'matlab': 1, 'sql': 3, 'tensorflow': 2, 'programming': 1, 'algorithms': 1, 'svm': 2, 'xgboost': 2, 'hypothesis': 1, 'testing': 1, 'oracle': 2, 'mysql': 2, 'db2': 2, 'tableau': 2, 'github': 2, 'spark': 1, 'visual': 1, 'machine learning': 1, 'random forest': 1, 'convolutional neural network': 1, 'neural networks': 1, 'linear regression': 1, 'logistic regression': 1, 'naïve bayes': 1, 'deep learning': 1, 'hypothesis testing': 1, 'sql server': 1}, 'SCORE': {'Statistics': 1, 'Machine Learning': 8, 'Deep Learning': 5, 'R language': 0, 'Python Language': 1, 'NLP': 0, 'Data Engineering': 3, 'Other Softwares and skills': 7}}, 'sshetty3@illinois.edu': {'NAME': 'E Chalmers', 'NUMBER': '+1 (217) 419-8072', 'EDUCATION': (['Master', 'Bachelor'], ['COMPUTER SCIENCE'], ['2011']), 'SKILLS': {'modeling': 2, 'engineering': 5, 'design': 2, 'algorithms': 2, 'architecture': 1, 'finance': 2, 'research': 1, 'analytics': 4, 'api': 4, 'automation': 3, 'rest': 1, 'testing': 5, 'python': 6, 'selenium': 2, 'reports': 3, 'sql': 4, 'agile': 2, 'security': 2, 'scrum': 2, 'analysis': 4, 'queries': 1, 'system': 4, 'health': 2, 'oracle': 2, 'migration': 1, 'linux': 3, 'pandas': 2, 'numpy': 2, 'matplotlib': 2, 'seaborn': 1, 'svm': 4, 'transactions': 1, 'distribution': 1, 'r': 6, 'tableau': 6, 'technical': 2, 'kpis': 1, 'interactive': 1, 'html': 2, 'xml': 2, 'database': 2, 'mysql': 2, 'windows': 2, 'solaris': 2, 'os': 1, 'excel': 1, 'powerpoint': 2, 'word': 1, 'jira': 2, 'git': 2, 'zookeeper': 2, 'pycharm': 2, 'jupyter': 1, 'programming': 1, 'information management': 1, 'statistical models': 1, 'computer science': 1, 'software engineering': 1, 'logistic regression': 2, 'data analysis': 1, 'hp alm': 1}, 'SCORE': {'Statistics': 1, 'Machine Learning': 2, 'Deep Learning': 0, 'R language': 0, 'Python Language': 6, 'NLP': 0, 'Data Engineering': 2, 'Other Softwares and skills': 5}}, 'nathanqin4@gmail.com': {'NAME': 'Xuefeng Qin', 'NUMBER': None, 'EDUCATION': (['Master', 'Bachelor'], [], ['2018', '2014']), 'SKILLS': {'email': 2, 'algorithms': 2, 'database': 3, 'system': 3, 'analytics': 1, 'programming': 1, 'c++': 2, 'java': 2, 'sql': 2, 'html': 2, 'css': 2, 'django': 5, 'git': 1, 'aws': 3, 'research': 2, 'presentation': 1, 'mobile': 2, 'architecture': 2, 'ios': 1, 'api': 2, 'ui': 1, 'engineering': 1, 'analysis': 1, 'reports': 1, 'metrics': 1, 'expenses': 1, 'routing': 1, 'github': 6, 'rest': 1, 'modeling': 2, 'python': 2, 'travel': 1, 'information management': 1, 'project management': 1, 'data analysis': 1}, 'SCORE': {'Statistics': 0, 'Machine Learning': 0, 'Deep Learning': 0, 'R language': 0, 'Python Language': 2, 'NLP': 0, 'Data Engineering': 2, 'Other Softwares and skills': 5}}, 'awkim2@illinois.edu': {'NAME': 'Andrew Kim', 'NUMBER': None, 'EDUCATION': ([], [], []), 'SKILLS': {'json': 2, 'java': 4, 'android': 2, 'c++': 6, 'visual': 2, 'ai': 2, 'safety': 2, 'health': 2, 'coding': 4, 'python': 2, 'linux': 1, 'windows': 1, 'design': 1, 'english': 2, 'spanish': 1}, 'SCORE': {'Statistics': 0, 'Machine Learning': 0, 'Deep Learning': 0, 'R language': 0, 'Python Language': 1, 'NLP': 0, 'Data Engineering': 1, 'Other Softwares and skills': 2}}, 'eobetta2@illinois.edu': {'NAME': 'George Obetta', 'NUMBER': '217-979-8338', 'EDUCATION': (['Bachelor'], ['COMPUTER SCIENCE'], []), 'SKILLS': {'engineering': 1, 'system': 2, 'ux': 1, 'ui': 1, 'warehouse': 1, 'analysis': 1, 'reports': 3, 'plan': 1, 'billing': 1, 'datasets': 1, 'analyze': 1, 'java': 3, 'programming': 1, 'c++': 2, 'html': 1, 'css': 1, 'git': 2, 'computer science': 1, 'data analysis': 1}, 'SCORE': {'Statistics': 0, 'Machine Learning': 0, 'Deep Learning': 0, 'R language': 0, 'Python Language': 0, 'NLP': 0, 'Data Engineering': 0, 'Other Softwares and skills': 4}}, 'AYUSHVARMAavarma6@illinois.edu': {'NAME': 'AYUSHVARMAavarma6@illinois.edu |', 'NUMBER': None, 'EDUCATION': ([], [], []), 'SKILLS': {'design': 1, 'calculus': 2, 'physics': 1}, 'SCORE': {'Statistics': 0, 'Machine Learning': 0, 'Deep Learning': 0, 'R language': 0, 'Python Language': 0, 'NLP': 0, 'Data Engineering': 0, 'Other Softwares and skills': 0}}, 'melizabeth.kras@gmail.com': {'NAME': 'N. Environ', 'NUMBER': '224.515.6242', 'EDUCATION': (['Bachelor'], ['ECONOMICS'], []), 'SKILLS': {'economics': 1, 'writing': 2, 'python': 2, 'analytics': 1, 'photography': 1, 'operations': 1, 'conversion': 2, 'tableau': 2, 'health': 2, 'marketing': 1, 'advertising': 1, 'website': 1, 'schedule': 1, 'research': 1, 'partnerships': 1, 'excel': 1, 'public relations': 1, 'microsoft office': 1, 'microsoft excel': 1}, 'SCORE': {'Statistics': 0, 'Machine Learning': 0, 'Deep Learning': 0, 'R language': 0, 'Python Language': 1, 'NLP': 0, 'Data Engineering': 0, 'Other Softwares and skills': 1}}, 'jlwang5@illinois.edu': {'NAME': 'JUSTIN WANG', 'NUMBER': '(305)  304-8145', 'EDUCATION': (['Bachelor'], ['COMPUTER SCIENCE'], ['2023']), 'SKILLS': {'email': 1, 'python': 2, 'pytorch': 2, 'java': 2, 'matlab': 4, 'c++': 2, 'mathematics': 2, 'transactions': 2, 'engineering': 1, 'biology': 1, 'nlp': 2, 'forecasting': 2, 'analysis': 1, 'pca': 1, 'lstm': 2, 'research': 1, 'international': 2, 'computer science': 3}, 'SCORE': {'Statistics': 1, 'Machine Learning': 1, 'Deep Learning': 1, 'R language': 0, 'Python Language': 2, 'NLP': 1, 'Data Engineering': 0, 'Other Softwares and skills': 3}}, 'robertl3@illinois.edu': {'NAME': 'Robert Lou', 'NUMBER': '630.570.1561', 'EDUCATION': ([], [], []), 'SKILLS': {'statistics': 4, 'mathematics': 4, 'system': 2, 'programming': 2, 'architecture': 3, 'modeling': 1, 'analysis': 1, 'probability': 2, 'green': 1, 'international': 1, 'engineering': 1, 'java': 4, 'scala': 4, 'r': 6, 'perl': 2, 'video': 1, 'health': 2, 'research': 4, 'analyze': 2, 'reports': 1, 'website': 1, 'wordpress': 2, 'python': 4, 'c++': 2, 'c': 2, 'english': 2, 'excel': 1, 'computer science': 1, 'statistical modeling': 1, 'statistical analysis': 1, 'microsoft excel': 1}, 'SCORE': {'Statistics': 3, 'Machine Learning': 0, 'Deep Learning': 0, 'R language': 0, 'Python Language': 1, 'NLP': 0, 'Data Engineering': 1, 'Other Softwares and skills': 3}}, 'tanya3@illinois.edu': {'NAME': 'TANYA GUPTA', 'NUMBER': '+1(217)-979-7216', 'EDUCATION': (['Master', 'Bachelor'], [], ['2020', '2015']), 'SKILLS': {'modeling': 1, 'engineering': 5, 'mining': 1, 'analytics': 1, 'programming': 1, 'communication': 2, 'engagement': 1, 'international': 4, 'sales': 2, 'research': 5, 'pandas': 3, 'python': 4, 'pyqt': 4, 'numpy': 3, 'opencv': 4, 'technical': 3, 'excel': 2, 'xml': 3, 'r': 4, 'sql': 2, 'java': 2, 'c': 2, 'html': 2, 'css': 2, 'editorial': 1, 'marketing': 1, 'information management': 1, 'statistical models': 1, 'information technology': 1, 'enterprise resource planning': 1, 'machine learning': 1, 'microsoft excel': 2, 'scikit-learn': 1}, 'SCORE': {'Statistics': 1, 'Machine Learning': 1, 'Deep Learning': 1, 'R language': 0, 'Python Language': 5, 'NLP': 0, 'Data Engineering': 1, 'Other Softwares and skills': 2}}, 'kunalpachori@gmail.com': {'NAME': 'kunalpachori@gmail.com |', 'NUMBER': '(217) 979-7306', 'EDUCATION': (['MS', 'Bachelor'], ['COMPUTER ENGINEERING'], ['2003']), 'SKILLS': {'programming': 4, 'analytics': 2, 'python': 14, 'r': 2, 'engineering': 6, 'algorithms': 4, 'analysis': 3, 'database': 2, 'technical': 1, 'javascript': 4, 'html5': 6, 'js': 3, 'java': 7, 'json': 2, 'sql': 2, 'php': 5, 'rest': 1, 'api': 1, 'jira': 2, 'git': 2, 'linux': 1, 'mysql': 2, 'tableau': 4, 'oracle': 6, 'health': 3, 'research': 3, 'system': 3, 'apis': 4, 'ui': 2, 'transactions': 2, 'banking': 3, 'payments': 1, 'agile': 1, 'shell': 2, 'scripting': 1, 'access': 1, 'testing': 2, 'ai': 2, 'analytical': 1, 'statistics': 1, 'mobile': 1, 'android': 2, 'mining': 2, 'pattern': 1, 'c': 1, 'excel': 1, 'intranet': 1, 'security': 3, 'certification': 1, 'information management': 1, 'statistical models': 1, 'software engineering': 1, 'technical skills': 1, 'data analytics': 1, 'ms excel': 1}, 'SCORE': {'Statistics': 2, 'Machine Learning': 0, 'Deep Learning': 0, 'R language': 0, 'Python Language': 1, 'NLP': 0, 'Data Engineering': 3, 'Other Softwares and skills': 7}}, 'cm44@illinois.edu': {'NAME': 'cm44@illinois.edu |', 'NUMBER': None, 'EDUCATION': (['Master', 'Bachelor'], [], []), 'SKILLS': {'analytics': 3, 'modeling': 2, 'engineering': 3, 'database': 1, 'mining': 1, 'technical': 3, 'python': 4, 'r': 4, 'tableau': 4, 'sql': 5, 'mysql': 2, 'pandas': 2, 'numpy': 2, 'html': 2, 'css': 2, 'javascript': 2, 'c': 2, 'git': 2, 'jira': 2, 'agile': 2, 'analysis': 15, 'hypothesis': 2, 'testing': 4, 'statistics': 1, 'reporting': 2, 'excel': 1, 'healthcare': 3, 'audit': 2, 'process': 3, 'queries': 1, 'health': 5, 'etl': 1, 'reports': 2, 'improvement': 2, 'design': 1, 'metrics': 1, 'sales': 5, 'pattern': 1, 'system': 1, 'algorithms': 1, 'website': 2, 'conversion': 1, 'marketing': 1, 'matrix': 1, 'information management': 1, 'software engineering': 1, 'business intelligence': 1, 'technical knowledge': 1, 'pl/sql': 1, 'hypothesis testing': 1, 'microsoft excel': 1, 'naïve bayes': 1}, 'SCORE': {'Statistics': 2, 'Machine Learning': 1, 'Deep Learning': 0, 'R language': 0, 'Python Language': 3, 'NLP': 0, 'Data Engineering': 3, 'Other Softwares and skills': 6}}, 'haoyuan4@illinois.edu': {'NAME': 'Hao Yuan', 'NUMBER': '+1-217-819-2998', 'EDUCATION': (['Bachelor'], ['COMPUTER SCIENCE'], ['2021']), 'SKILLS': {'engineering': 2, 'statistics': 1, 'java': 4, 'programming': 1, 'c++': 4, 'architecture': 1, 'content': 3, 'twitter': 2, 'training': 1, 'research': 4, 'testing': 4, 'usability': 1, 'linux': 1, 'servers': 2, 'shell': 2, 'analyze': 1, 'benchmark': 1, 'ai': 2, 'international': 1, 'photography': 4, 'plan': 1, 'technical': 4, 'python': 1, 'c': 2, 'sql': 2, 'git': 1, 'word': 2, 'powerpoint': 2, 'excel': 2, 'photoshop': 2, 'english': 2, 'computer science': 1, 'test cases': 1, 'neural networks': 1}, 'SCORE': {'Statistics': 1, 'Machine Learning': 0, 'Deep Learning': 1, 'R language': 0, 'Python Language': 1, 'NLP': 0, 'Data Engineering': 1, 'Other Softwares and skills': 4}}, 'jajoshi2@illinois.edu': {'NAME': 'Urbana Champaign', 'NUMBER': '217 305 2617', 'EDUCATION': (['Master', 'Bachelor', 'BTech'], [], []), 'SKILLS': {'email': 2, 'communication': 2, 'python': 6, 'r': 3, 'matlab': 4, 'c': 2, 'c++': 2, 'java': 2, 'mysql': 2, 'shell': 1, 'scripting': 1, 'tensorflow': 4, 'jupyter': 2, 'tableau': 4, 'orange': 2, 'os': 1, 'ubuntu': 1, 'research': 1, 'analysis': 4, 'algorithms': 3, 'keras': 2, 'pandas': 2, 'numpy': 2, 'process': 2, 'system': 4, 'video': 1, 'inventory': 1, 'openpyxl': 2, 'tkinter': 2, 'health': 2, 'policies': 2, 'technical': 1, 'facebook': 2, 'twitter': 2, 'statistics': 1, 'database': 1, 'access': 1, 'human resource': 1, 'statistical analysis': 1, 'neural network': 1, 'sentiment analysis': 1, 'computer science': 1}, 'SCORE': {'Statistics': 1, 'Machine Learning': 0, 'Deep Learning': 3, 'R language': 0, 'Python Language': 6, 'NLP': 1, 'Data Engineering': 1, 'Other Softwares and skills': 5}}, 'monil2@illinois.edu|': {'NAME': 'E Chalmers', 'NUMBER': '+1 (217)819-8306', 'EDUCATION': (['Master', 'Bachelor'], ['COMPUTER ENGINEERING'], []), 'SKILLS': {'consulting': 1, 'engineering': 6, 'analysis': 4, 'design': 4, 'database': 3, 'system': 1, 'r': 4, 'website': 5, 'html': 5, 'css': 6, 'javascript': 6, 'mysql': 6, 'php': 6, 'marketing': 4, 'operations': 2, 'lifecycle': 1, 'seo': 1, 'strategy': 2, 'research': 3, 'policies': 1, 'international': 1, 'twitter': 1, 'tableau': 4, 'specifications': 1, 'programming': 1, 'python': 2, 'c': 2, 'technical': 1, 'sports': 1, 'information management': 1, 'software engineering': 1, 'risk management': 1, 'sentiment analysis': 1, 'social media': 1}, 'SCORE': {'Statistics': 0, 'Machine Learning': 0, 'Deep Learning': 0, 'R language': 0, 'Python Language': 1, 'NLP': 1, 'Data Engineering': 1, 'Other Softwares and skills': 3}}, 'sparhi2@illinois.edu': {'NAME': 'SANJAY PARHI', 'NUMBER': None, 'EDUCATION': (['BS'], ['COMPUTER ENGINEERING', 'STATISTICS'], ['2022']), 'SKILLS': {'engineering': 1, 'statistics': 4, 'algorithms': 2, 'programming': 3, 'electronics': 2, 'probability': 2, 'analysis': 1, 'security': 3, 'python': 5, 'ibm': 1, 'ai': 1, 'robot': 3, 'java': 2, 'c': 2, 'c++': 2, 'git': 2, 'unix': 1, 'communication': 1, 'microsoft office': 1}, 'SCORE': {'Statistics': 2, 'Machine Learning': 0, 'Deep Learning': 0, 'R language': 0, 'Python Language': 1, 'NLP': 0, 'Data Engineering': 0, 'Other Softwares and skills': 4}}, 'putta2@illinois.edu': {'NAME': 'Information Management', 'NUMBER': '+1-217-819-9243', 'EDUCATION': (['Master', 'Bachelor'], [], ['2009', '2009']), 'SKILLS': {'email': 2, 'mobile': 2, 'python': 1, 'sql': 1, 'r': 1, 'tableau': 4, 'selenium': 1, 'pyspark': 3, 'hive': 1, 'tensorflow': 2, 'docker': 2, 'aws': 2, 'linux': 2, 'excel': 2, 'git': 2, 'html': 1, 'css': 1, 'agile': 1, 'scrum': 1, 'jira': 2, 'sap': 6, 'engineering': 1, 'analytics': 5, 'etl': 3, 'shell': 2, 'migration': 3, 'erp': 1, 'oracle': 2, 'warehouse': 2, 'testing': 2, 'reports': 1, 'specifications': 1, 'acquisition': 1, 'access': 1, 'interactive': 1, 'api': 2, 'schedules': 1, 'mining': 1, 'modeling': 3, 'programming': 1, 'algorithms': 2, 'information management': 1, 'information technology': 1, 'project management': 1, 'statistical modeling': 1, 'machine learning': 1}, 'SCORE': {'Statistics': 1, 'Machine Learning': 1, 'Deep Learning': 1, 'R language': 0, 'Python Language': 2, 'NLP': 0, 'Data Engineering': 4, 'Other Softwares and skills': 6}}, 'kaahan15@gmail.com': {'NAME': 'Kaahan Motwani', 'NUMBER': '(847) 995-1150', 'EDUCATION': (['Bachelor'], ['COMPUTER SCIENCE'], []), 'SKILLS': {'python': 4, 'forecasting': 2, 'excel': 1, 'consulting': 2, 'calculus': 2, 'physics': 1, 'c': 1, 'technical': 1, 'ai': 1, 'database': 2, 'math': 2, 'logistics': 2, 'communication': 2, 'ios': 2, 'swift': 4, 'outreach': 1, 'api': 1, 'java': 2, 'javascript': 2, 'html': 1, 'css': 1, 'tableau': 2, 'marketing': 1, 'computer science': 1, 'microsoft excel': 1, 'microsoft office suite': 1}, 'SCORE': {'Statistics': 1, 'Machine Learning': 0, 'Deep Learning': 0, 'R language': 0, 'Python Language': 1, 'NLP': 0, 'Data Engineering': 0, 'Other Softwares and skills': 4}}, 'gagan.baansal96@gmail.com': {'NAME': 'Gaganpreet Kaur', 'NUMBER': '(217)2056767', 'EDUCATION': (['Bachelor', 'Minor', 'MS'], ['COMPUTER SCIENCE', 'STATISTICS'], ['2017', '2017']), 'SKILLS': {'engineering': 4, 'database': 1, 'programming': 4, 'unix': 2, 'java': 3, 'system': 1, 'excel': 1, 'selenium': 2, 'c': 2, 'c++': 2, 'modeling': 1, 'analysis': 1, 'statistics': 2, 'english': 1, 'information management': 1, 'software engineering': 1, 'operating systems': 1, 'ms excel': 1, 'data analysis': 1}, 'SCORE': {'Statistics': 1, 'Machine Learning': 0, 'Deep Learning': 0, 'R language': 0, 'Python Language': 0, 'NLP': 0, 'Data Engineering': 0, 'Other Softwares and skills': 3}}, 'ycchen4@illinois.edu': {'NAME': '| Portfolio', 'NUMBER': '+1 (217) 600-9734', 'EDUCATION': (['Master', 'Bachelor'], [], []), 'SKILLS': {'electronics': 1, 'mobile': 3, 'ios': 12, 'design': 3, 'writing': 1, 'analysis': 1, 'api': 1, 'ui': 3, 'ux': 2, 'sales': 4, 'reports': 1, 'plan': 1, 'android': 4, 'healthcare': 3, 'startup': 1, 'architecture': 2, 'git': 5, 'javascript': 4, 'swift': 7, 'health': 3, 'editing': 1, 'c': 4, 'facebook': 1, 'sketch': 2, 'database': 1, 'prototyping': 2, 'training': 1, 'programming': 2, 'java': 4, 'administration': 1, 'r': 2, 'sql': 2, 'html': 2, 'css': 1, 'objective-c': 4, 'social media': 1, 'information management': 1, 'statistical models': 1}, 'SCORE': {'Statistics': 1, 'Machine Learning': 0, 'Deep Learning': 0, 'R language': 0, 'Python Language': 0, 'NLP': 0, 'Data Engineering': 1, 'Other Softwares and skills': 4}}, 'jim850221@gmail.com': {'NAME': 'Yang Huang', 'NUMBER': None, 'EDUCATION': (['Master', 'Bachelor'], [], []), 'SKILLS': {'english': 2, 'modeling': 1, 'administration': 1, 'design': 11, 'database': 1, 'system': 8, 'javascript': 8, 'analysis': 1, 'statistics': 2, 'accounting': 1, 'html5': 6, 'seo': 1, 'strategy': 1, 'email': 1, 'health': 1, 'video': 1, 'international': 1, 'proposal': 1, 'programming': 1, 'python': 2, 'django': 2, 'information management': 2}, 'SCORE': {'Statistics': 1, 'Machine Learning': 0, 'Deep Learning': 0, 'R language': 0, 'Python Language': 2, 'NLP': 0, 'Data Engineering': 0, 'Other Softwares and skills': 2}}, 'yongyi2@illinois.edu': {'NAME': 'Yongyi Li', 'NUMBER': '(217)721-5084', 'EDUCATION': (['MS', 'Master', 'Bachelor'], ['COMPUTER SCIENCE'], ['2014']), 'SKILLS': {'email': 2, 'research': 5, 'system': 2, 'pca': 2, 'mining': 2, 'supervisor': 2, 'twitter': 6, 'ai': 1, 'svm': 2, 'magic': 1, 'android': 2, 'modeling': 1, 'c': 2, 'c++': 2, 'python': 2, 'sql': 2, 'r': 2, 'computer science': 1, 'machine learning': 1}, 'SCORE': {'Statistics': 0, 'Machine Learning': 3, 'Deep Learning': 0, 'R language': 0, 'Python Language': 1, 'NLP': 0, 'Data Engineering': 1, 'Other Softwares and skills': 1}}, 'conniezhou0525new@gmail.com': {'NAME': 'CONNIE ZHOU', 'NUMBER': '774-330-6080', 'EDUCATION': (['Master', 'BS'], ['COMPUTER ENGINEERING', 'STATISTICS'], ['2020', '2019']), 'SKILLS': {'design': 2, 'flask': 5, 'analysis': 2, 'communication': 2, 'interactive': 2, 'database': 4, 'mysql': 3, 'java': 6, 'access': 1, 'ui': 2, 'api': 1, 'android': 1, 'r': 3, 'economics': 2, 'tableau': 2, 'sas': 1, 'sql': 1, 'c++': 1, 'html': 3, 'css': 1, 'javascript': 4, 'python': 4, 'github': 4, 'engineering': 4, 'statistics': 2, 'click': 4, 'architecture': 1, 'aws': 2, 'ec2': 1, 's3': 1, 'website': 2, 'mobile': 2, 'sketch': 2, 'mock': 1, 'test cases': 1, 'machine learning': 1}, 'SCORE': {'Statistics': 1, 'Machine Learning': 1, 'Deep Learning': 0, 'R language': 0, 'Python Language': 2, 'NLP': 0, 'Data Engineering': 5, 'Other Softwares and skills': 7}}, 'ushmaub@gmail.com': {'NAME': 'USHMA BHATT', 'NUMBER': '(773) 313-7395', 'EDUCATION': (['Master', 'Bachelor', 'MS'], ['COMPUTER ENGINEERING'], []), 'SKILLS': {'engineering': 3, 'research': 3, 'algorithms': 2, 'strategy': 3, 'marketing': 2, 'analytics': 3, 'content': 3, 'sales': 2, 'r': 6, 'sql': 10, 'system': 7, 'mysql': 1, 'design': 3, 'database': 5, 'analysis': 3, 'tableau': 6, 'segmentation': 1, 'consulting': 2, 'python': 3, 'international': 1, 'website': 4, 'html': 1, 'css': 1, 'php': 4, 'json': 4, 'oracle': 3, 'programming': 1, 'analytical': 1, 'prototyping': 2, 'statistics': 1, 'economics': 2, 'finance': 2, 'technical': 1, 'information management': 1, 'business intelligence': 1}, 'SCORE': {'Statistics': 1, 'Machine Learning': 0, 'Deep Learning': 0, 'R language': 0, 'Python Language': 1, 'NLP': 0, 'Data Engineering': 3, 'Other Softwares and skills': 2}}}\n"
     ]
    }
   ],
   "source": [
    "print(resumes_dict)"
   ]
  },
  {
   "cell_type": "code",
   "execution_count": null,
   "metadata": {},
   "outputs": [],
   "source": []
  }
 ],
 "metadata": {
  "kernelspec": {
   "display_name": "Python 3",
   "language": "python",
   "name": "python3"
  },
  "language_info": {
   "codemirror_mode": {
    "name": "ipython",
    "version": 3
   },
   "file_extension": ".py",
   "mimetype": "text/x-python",
   "name": "python",
   "nbconvert_exporter": "python",
   "pygments_lexer": "ipython3",
   "version": "3.7.4"
  }
 },
 "nbformat": 4,
 "nbformat_minor": 2
}
